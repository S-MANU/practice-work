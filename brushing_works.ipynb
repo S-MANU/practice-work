{
  "nbformat": 4,
  "nbformat_minor": 0,
  "metadata": {
    "colab": {
      "provenance": [],
      "authorship_tag": "ABX9TyNvLgEe0PRcXSNnhky9iVlM",
      "include_colab_link": true
    },
    "kernelspec": {
      "name": "python3",
      "display_name": "Python 3"
    },
    "language_info": {
      "name": "python"
    }
  },
  "cells": [
    {
      "cell_type": "markdown",
      "metadata": {
        "id": "view-in-github",
        "colab_type": "text"
      },
      "source": [
        "<a href=\"https://colab.research.google.com/github/S-MANU/practice-work/blob/main/brushing_works.ipynb\" target=\"_parent\"><img src=\"https://colab.research.google.com/assets/colab-badge.svg\" alt=\"Open In Colab\"/></a>"
      ]
    },
    {
      "cell_type": "code",
      "execution_count": null,
      "metadata": {
        "colab": {
          "base_uri": "https://localhost:8080/"
        },
        "id": "OJ3ZYnjajiaW",
        "outputId": "2a427db7-15f8-4a54-d501-d67d9c9272c2"
      },
      "outputs": [
        {
          "output_type": "stream",
          "name": "stdout",
          "text": [
            "19\n"
          ]
        }
      ],
      "source": [
        "#calculate london points\n",
        "#london played 9 matches, win = 6 , drew = 1, lost = 2\n",
        "win = 6\n",
        "lost = 2\n",
        "draw = 1\n",
        "london_points = win*3 + draw*1 + lost*0\n",
        "print(london_points)"
      ]
    },
    {
      "cell_type": "code",
      "source": [
        "def c_p(win, lost, draw):\n",
        "  return(win*3 + draw*1 + lost*0)\n",
        "\n",
        "l_points = c_p(4,3,6)\n",
        "print(\"Lisbon Points\", l_points)"
      ],
      "metadata": {
        "colab": {
          "base_uri": "https://localhost:8080/"
        },
        "id": "bH2j7aHbj5zY",
        "outputId": "5bf42bd5-6825-4f9e-e2c2-1c6e97cbb81a"
      },
      "execution_count": null,
      "outputs": [
        {
          "output_type": "stream",
          "name": "stdout",
          "text": [
            "Lisbon Points 18\n"
          ]
        }
      ]
    },
    {
      "cell_type": "code",
      "source": [
        "def calculate_points(win, lost, draw):\n",
        "  return(win*3 + draw*1 + lost*0)\n",
        "\n",
        "win = int(input(\"Enter number of wins:\"))\n",
        "lost = int(input(\"Enter number of lost:\"))\n",
        "draw = int(input(\"Enter number of draws:\"))\n",
        "\n",
        "tot_points = calculate_points(win, lost, draw)\n",
        "print(\"Total points:\", tot_points)"
      ],
      "metadata": {
        "colab": {
          "base_uri": "https://localhost:8080/"
        },
        "id": "ChSW1jW9nVWd",
        "outputId": "9eb0fa6e-8e59-4fc9-e3c7-f8dc3fdc08ed"
      },
      "execution_count": null,
      "outputs": [
        {
          "output_type": "stream",
          "name": "stdout",
          "text": [
            "Enter number of wins:8\n",
            "Enter number of lost:3\n",
            "Enter number of draws:4\n",
            "Total points: 28\n"
          ]
        }
      ]
    },
    {
      "cell_type": "code",
      "source": [],
      "metadata": {
        "id": "BeBKU_w9n94W"
      },
      "execution_count": null,
      "outputs": []
    },
    {
      "cell_type": "code",
      "source": [
        "str1 = 'tisha'\n",
        "str2 = 'monish'\n",
        "t = str1[:1]\n",
        "g = t.upper()\n",
        "m = str2[:5]\n",
        "k = str1[1:4]\n",
        "j = k.upper()\n",
        "l = str1[3]\n",
        "p = str1[4]\n",
        "o = p.upper()\n",
        "\n",
        "#print(g)\n",
        "#print(m)\n",
        "#print(j)\n",
        "#print(l)\n",
        "#print(o)\n",
        "print(g + m+ j+l+o)\n",
        "\n",
        "final = str1[0].upper() + str2[:5] + str2[3:6].upper() + str1[3] + str1[4].upper()\n",
        "print(final)"
      ],
      "metadata": {
        "id": "qcM-f0ZiQ1go",
        "colab": {
          "base_uri": "https://localhost:8080/"
        },
        "outputId": "03be04fd-8ef6-49eb-e2f9-4b29107659f1"
      },
      "execution_count": 19,
      "outputs": [
        {
          "output_type": "stream",
          "name": "stdout",
          "text": [
            "TmonisISHhA\n",
            "TmonisISHhA\n"
          ]
        }
      ]
    },
    {
      "cell_type": "code",
      "source": [
        "# A list containing average daily temperature over a week\n",
        "temperatures = [34, 40, 29, 33, 42, 37, 39 ]\n",
        "\n",
        "# The expected output\n",
        "# output_temperatures = [34, 40, 42, 33, 29, 37, 39]\n",
        "i = temperatures.index(29)\n",
        "j = temperatures.index(42)\n",
        "\n",
        "temperatures[i], temperatures[j] = temperatures[j], temperatures[i]\n",
        "\n",
        "print(temperatures)"
      ],
      "metadata": {
        "id": "5lcvw8Qb5jn5",
        "outputId": "2557adf7-8c03-4c58-ed8d-20e3b545ec62",
        "colab": {
          "base_uri": "https://localhost:8080/"
        }
      },
      "execution_count": 25,
      "outputs": [
        {
          "output_type": "stream",
          "name": "stdout",
          "text": [
            "[34, 40, 42, 33, 29, 37, 39]\n"
          ]
        }
      ]
    },
    {
      "cell_type": "code",
      "source": [
        "Write a Python program to display the first and last colors from the following list.\n",
        "\n",
        "color_list = [\"Red\",\"Green\",\"White\" ,\"Black\"]\n",
        "\n",
        "Example 1:\n",
        "Input:\n",
        "[\"Red\",\"Green\",\"White\" ,\"Black\"]\n",
        "\n",
        "Output:\n",
        "Red Black"
      ],
      "metadata": {
        "id": "NXRtQnWrLMi-"
      },
      "execution_count": null,
      "outputs": []
    },
    {
      "cell_type": "code",
      "source": [
        "new_list = [\"Red\",\"Green\",\"White\" ,\"Black\"]\n",
        "\n",
        "\n",
        "new = [new_list[0], new_list[3]]\n",
        "print(' '.join(new))\n"
      ],
      "metadata": {
        "id": "oHv17jNZrSkY",
        "outputId": "45300319-4735-48fd-d678-cfd7ae07dc9a",
        "colab": {
          "base_uri": "https://localhost:8080/"
        }
      },
      "execution_count": 28,
      "outputs": [
        {
          "output_type": "stream",
          "name": "stdout",
          "text": [
            "Red Black\n"
          ]
        }
      ]
    },
    {
      "cell_type": "code",
      "source": [
        "#jj = 25.369865\n",
        "num = float(input(\"enter the number:\"))\n",
        "decimal = int(input(\"enter the decimal you need to round of:\"))\n",
        "final = round(num,decimal)\n",
        "print(final)\n",
        "#k = round(jj,4)\n",
        "#print(k)"
      ],
      "metadata": {
        "id": "1_j52rXnrhzh",
        "outputId": "90b67dc0-b976-4cfa-ff0b-c5bbfccc8123",
        "colab": {
          "base_uri": "https://localhost:8080/"
        }
      },
      "execution_count": 4,
      "outputs": [
        {
          "output_type": "stream",
          "name": "stdout",
          "text": [
            "enter the number:235.2568\n",
            "enter the decimal you need to round of:2\n",
            "235.26\n"
          ]
        }
      ]
    },
    {
      "cell_type": "code",
      "source": [
        "w = 65\n",
        "h = 6\n",
        "n = (w / h**2)\n",
        "print(n)\n"
      ],
      "metadata": {
        "id": "_awJ08TG5RGZ",
        "outputId": "32f72abb-3468-47b9-8ef3-de38b5a41d23",
        "colab": {
          "base_uri": "https://localhost:8080/"
        }
      },
      "execution_count": 11,
      "outputs": [
        {
          "output_type": "stream",
          "name": "stdout",
          "text": [
            "1.8055555555555556\n"
          ]
        }
      ]
    },
    {
      "cell_type": "code",
      "source": [
        "\n",
        "w = float(input(\"type your weight:\"))\n",
        "h = float(input(\"type your hight:\"))\n",
        "bmi = (w / (h**2))\n",
        "m = float(bmi)\n",
        "j = print(round(m,2))"
      ],
      "metadata": {
        "id": "RbXSighXxlOG",
        "outputId": "5d9d5116-0334-4c27-8a7c-72132ba0a105",
        "colab": {
          "base_uri": "https://localhost:8080/"
        }
      },
      "execution_count": 14,
      "outputs": [
        {
          "output_type": "stream",
          "name": "stdout",
          "text": [
            "type your weight:65\n",
            "type your hight:6\n",
            "1.81\n"
          ]
        }
      ]
    },
    {
      "cell_type": "code",
      "source": [
        "Input:\n",
        "21, 34, 56, name\n",
        "\n",
        "shop, job, name, item\n",
        "\n",
        "Output:\n",
        "[' 34', ' 56', '21'] [' item', ' job', ' name', 'shop']"
      ],
      "metadata": {
        "id": "nRTytQh6ClGb"
      },
      "execution_count": null,
      "outputs": []
    },
    {
      "cell_type": "code",
      "source": [
        "a = {21, 34, 56,'name'}\n",
        "b = {'shop', 'job', 'name', 'item'}\n",
        "c = a.union(b)\n",
        "print(c)\n",
        "f = zip(a,b)\n",
        "print(dict(f))"
      ],
      "metadata": {
        "id": "LYTYbpVc5K7q",
        "outputId": "142ec201-3309-4010-9e91-ab15ca142a37",
        "colab": {
          "base_uri": "https://localhost:8080/"
        }
      },
      "execution_count": 24,
      "outputs": [
        {
          "output_type": "stream",
          "name": "stdout",
          "text": [
            "{34, 'shop', 'job', 21, 'item', 56, 'name'}\n",
            "{56: 'shop', 34: 'name', 'name': 'item', 21: 'job'}\n"
          ]
        }
      ]
    },
    {
      "cell_type": "code",
      "source": [
        "s1 = input()\n",
        "s2 = input()\n",
        "\n",
        "list1 = s1.split(',')\n",
        "list2 = s2.split(',')\n",
        "\n",
        "intersection = set(list1) & set(list2)\n",
        "\n",
        "\n",
        "for item in intersection:\n",
        "  if item in list1:\n",
        "    list1.remove(item)\n",
        "\n",
        "list1.reverse()\n",
        "list2.reverse()\n",
        "\n",
        "print(list1, list2)"
      ],
      "metadata": {
        "id": "Fv3lf8ZZC4J1",
        "outputId": "a2da5a3e-fb18-468c-c6b8-ab49ce62b41b",
        "colab": {
          "base_uri": "https://localhost:8080/"
        }
      },
      "execution_count": 26,
      "outputs": [
        {
          "output_type": "stream",
          "name": "stdout",
          "text": [
            "21, 34, 56, name\n",
            "shop, job, name, item\n",
            "{' name'}\n",
            "[' 56', ' 34', '21'] [' item', ' name', ' job', 'shop']\n"
          ]
        }
      ]
    },
    {
      "cell_type": "code",
      "source": [
        "# Input set\n",
        "s = input()  # Example: 3, 2, 6, 8, 5\n",
        "\n",
        "# Input item to remove\n",
        "item = input()  # Example: 8\n",
        "\n",
        "# Convert input to set of integers\n",
        "my_set = set(map(int, s.split(\",\")))\n",
        "\n",
        "# Convert item to integer\n",
        "item = int(item)\n",
        "\n",
        "# Remove item if present\n",
        "my_set.discard(item)\n",
        "\n",
        "# Print result\n",
        "print(my_set)"
      ],
      "metadata": {
        "id": "IT3-qn6LZ8K4",
        "outputId": "76ebb991-7f5c-41ff-cb3a-c8a850580980",
        "colab": {
          "base_uri": "https://localhost:8080/"
        }
      },
      "execution_count": 35,
      "outputs": [
        {
          "output_type": "stream",
          "name": "stdout",
          "text": [
            "3,2,6,8,5\n",
            "8\n",
            "{2, 3, 5, 6}\n"
          ]
        }
      ]
    },
    {
      "cell_type": "code",
      "source": [
        "w1 = input()\n",
        "w2 = input()\n",
        "my_set = set(map(int, w1.split(',')))\n",
        "w2 = int(w2)\n",
        "my_set.discard(w2)\n",
        "print(my_set)"
      ],
      "metadata": {
        "id": "PoVyoHj3S0jj",
        "outputId": "102dd394-3562-4023-a4dc-80e43654c75d",
        "colab": {
          "base_uri": "https://localhost:8080/"
        }
      },
      "execution_count": 36,
      "outputs": [
        {
          "output_type": "stream",
          "name": "stdout",
          "text": [
            "3,2,6,8,5\n",
            "8\n",
            "{2, 3, 5, 6}\n"
          ]
        }
      ]
    },
    {
      "cell_type": "code",
      "source": [
        "a = {'book', 'paper', 'draw', 'dance'}\n",
        "b = {'hike', 'tour', 'dance', 'work'}\n",
        "c = a.intersection(b)\n",
        "print(c)\n"
      ],
      "metadata": {
        "id": "X4q-7XejTuGL",
        "outputId": "82c5e65b-01a3-43a9-86b3-ec30453d57dd",
        "colab": {
          "base_uri": "https://localhost:8080/"
        }
      },
      "execution_count": 3,
      "outputs": [
        {
          "output_type": "stream",
          "name": "stdout",
          "text": [
            "{'dance'}\n"
          ]
        }
      ]
    },
    {
      "cell_type": "code",
      "source": [
        "vowel = 'j'\n",
        "if vowel in ('a','e','i','u'):\n",
        "  print('Vowel')\n",
        "else:\n",
        "  print('Consonant')"
      ],
      "metadata": {
        "id": "n56HnyCzHmDx",
        "outputId": "a0084b30-8e71-490e-b4bf-a946c1fb56af",
        "colab": {
          "base_uri": "https://localhost:8080/"
        }
      },
      "execution_count": 6,
      "outputs": [
        {
          "output_type": "stream",
          "name": "stdout",
          "text": [
            "Consonant\n"
          ]
        }
      ]
    },
    {
      "cell_type": "code",
      "source": [
        "letter = input(\"Enter an alphabet:\")\n",
        "\n",
        "if letter.lower() in ('a', 'e', 'i','o', 'u'):\n",
        "  print('Vowel')\n",
        "else:\n",
        "  print('Consonant')"
      ],
      "metadata": {
        "id": "x7Bc2zD3_gel",
        "outputId": "8be55789-0a99-4afb-efe3-fe23dea93c5f",
        "colab": {
          "base_uri": "https://localhost:8080/"
        }
      },
      "execution_count": 7,
      "outputs": [
        {
          "output_type": "stream",
          "name": "stdout",
          "text": [
            "Enter an alphabet:d\n",
            "Consonant\n"
          ]
        }
      ]
    },
    {
      "cell_type": "code",
      "source": [
        "Month = input(\"Enter a month: \").lower()\n",
        "\n",
        "if Month in ('january', 'march', 'may', 'july', 'august', 'october','december'):\n",
        "  print('31 Days')\n",
        "\n",
        "elif Month in ('april', 'june', 'september', 'november'):\n",
        "  print('30 Days')\n",
        "\n",
        "elif Month == 'February':\n",
        "  print('28/29 Days')\n",
        "else:\n",
        "  print('invalid input')\n"
      ],
      "metadata": {
        "id": "PK8ORA6OAwu5",
        "outputId": "d7122ed4-edb7-4e91-bf7d-701372f56d22",
        "colab": {
          "base_uri": "https://localhost:8080/"
        }
      },
      "execution_count": 17,
      "outputs": [
        {
          "output_type": "stream",
          "name": "stdout",
          "text": [
            "Enter a month: march\n",
            "31 Days\n"
          ]
        }
      ]
    },
    {
      "cell_type": "code",
      "source": [
        "dage = int(input(\"enter year:\"))\n",
        "\n",
        "if dage <= 2 :\n",
        "  Dog_years = dage * 10.5\n",
        "else:\n",
        "  Dog_years = (2*10.5) + ((dage-2) * 4)\n",
        "print('Dog age:', int(Dog_years))"
      ],
      "metadata": {
        "id": "bXWn2-uPGNcK",
        "outputId": "041b0f41-6409-4153-9f06-c37d7823e7d3",
        "colab": {
          "base_uri": "https://localhost:8080/"
        }
      },
      "execution_count": 24,
      "outputs": [
        {
          "output_type": "stream",
          "name": "stdout",
          "text": [
            "enter year:12\n",
            "Dog age: 61\n"
          ]
        }
      ]
    },
    {
      "cell_type": "code",
      "source": [],
      "metadata": {
        "id": "13RlfYsnPmpw"
      },
      "execution_count": null,
      "outputs": []
    }
  ]
}